{
 "cells": [
  {
   "cell_type": "markdown",
   "metadata": {},
   "source": [
    "**Задание 1**<br/>\n",
    "Напишите метод, которая возвращает название валюты (поле ‘Name’) с максимальным значением курса с помощью сервиса https://www.cbr-xml-daily.ru/daily_json.js"
   ]
  },
  {
   "cell_type": "code",
   "execution_count": 9,
   "metadata": {},
   "outputs": [
    {
     "name": "stdout",
     "output_type": "stream",
     "text": [
      "СДР (специальные права заимствования)\n"
     ]
    }
   ],
   "source": [
    "import pandas as pd \n",
    "url = 'https://www.cbr-xml-daily.ru/daily_json.js'\n",
    "dfs = pd.read_json(url)\n",
    "valutes = pd.DataFrame(dfs['Valute'].tolist())\n",
    "pr=valutes[valutes['Value'] == valutes['Value'].max()]['Name'].tolist()[0]\n",
    "print(pr)"
   ]
  },
  {
   "cell_type": "markdown",
   "metadata": {},
   "source": [
    "**Задание 2**<br/>\n",
    "Добавьте в класс Rate параметр diff (со значениями True или False), который в случае значения True в методах курсов валют (eur, usd итд) будет возвращать не курс валюты, а изменение по сравнению в прошлым значением. Считайте, self.diff будет принимать значение True только при возврате значения курса. При отображении всей информации о валюте он не используется."
   ]
  },
  {
   "cell_type": "code",
   "execution_count": 9,
   "metadata": {
    "scrolled": true
   },
   "outputs": [
    {
     "name": "stdout",
     "output_type": "stream",
     "text": [
      "Изменение: + 0.08199999999999363\n",
      "Текущий курс:  91.6599\n"
     ]
    }
   ],
   "source": [
    "import requests\n",
    "class Rate:\n",
    "  \n",
    "    def __init__(self, format_='value',diff = False):\n",
    "        self.format = format_\n",
    "        self.diff = diff\n",
    "    \n",
    "    \n",
    "    def exchange_rates(self):     \n",
    "        self.r = requests.get('https://www.cbr-xml-daily.ru/daily_json.js')\n",
    "        return self.r.json()['Valute']\n",
    "    \n",
    "    def make_format(self, currency):\n",
    "       \n",
    "        response = self.exchange_rates()\n",
    "        \n",
    "        if currency in response:\n",
    "            if self.format == 'full':\n",
    "                return response[currency]\n",
    "            \n",
    "            if self.format == 'value':\n",
    "                return response[currency]['Value']\n",
    "            \n",
    "    def diff_delta(self,currency):\n",
    "        res = self.exchange_rates()\n",
    "        value = res[currency]['Value']\n",
    "        previous = res[currency]['Previous']\n",
    "        return (value - previous) if (self.diff) else value\n",
    "    \n",
    "    \n",
    "    def current_course_info(self,currency):\n",
    "        info_label = 'Текущий курс: '\n",
    "        if (self.diff):\n",
    "            sign = '+' if (self.diff_delta(currency)) > 0 else \n",
    "            info_label = 'Изменение: ' + sign\n",
    "        print(str(info_label) + ' ' + str(self.diff_delta(currency)))\n",
    "        \n",
    "        \n",
    "rate = Rate('full',True)\n",
    "rate.current_course_info('EUR')\n",
    "rate = Rate('full',False)\n",
    "rate.current_course_info('EUR')\n",
    "    \n",
    "   \n",
    "        \n",
    "       \n",
    "    "
   ]
  },
  {
   "cell_type": "code",
   "execution_count": null,
   "metadata": {},
   "outputs": [],
   "source": []
  },
  {
   "cell_type": "code",
   "execution_count": null,
   "metadata": {},
   "outputs": [],
   "source": []
  },
  {
   "cell_type": "markdown",
   "metadata": {},
   "source": [
    "**Задание 3**<br/>\n",
    "Напишите класс Designer, который учитывает количество международных премий для дизайнеров (из презентации: \"Повышение на 1 грейд за каждые 7 баллов. Получение международной премии – это +2 балла\" для каждой аккредитации увеличиваем счетчик на 1, пока считаем, что все дизайнеры проходят аккредитацию). Считайте, что при выходе на работу сотрудник уже имеет две премии и их количество меняется со стажем (получение премии генератор случайных чисел ). Выполните проверку для 20 аккредитаций дизайнера Елены. Подсказки в коде занятия в разделе “Домашнее задание задача 3”.<br/>\n",
    "<br/>\n",
    "Для проверки используйте код:<br/>\n",
    "<br/>\n",
    "elena = Designer('Елена', seniority=0, awards=2)<br/>\n",
    "for i in range(20):<br/>\n",
    "```elena.check_if_it_is_time_for_upgrade()<br/>"
   ]
  },
  {
   "cell_type": "code",
   "execution_count": 144,
   "metadata": {},
   "outputs": [],
   "source": [
    "import random\n",
    "class Designer():\n",
    "    def __init__(self, name, seniority=0,awards=0):\n",
    "        self.name = name\n",
    "        self.seniority = seniority\n",
    "        self.awards = awards\n",
    "        self.score = awards+2\n",
    "        \n",
    "    def upgrade(self):\n",
    "        self.seniority = self.score // 7\n",
    "    \n",
    "    def acreditation(self):\n",
    "        \n",
    "        \n",
    "        if (self.score // 7)>0 :\n",
    "            jkl=random.randint(1,2)\n",
    "            self.score +=jkl\n",
    "            if jkl==2 :\n",
    "                self.awards+=1\n",
    "                print('Акредитация пройдена! (+2 балл)')\n",
    "            else:\n",
    "                print('Акредитация пройдена! (+1 балл)') \n",
    "                \n",
    "        else:\n",
    "             self.score += 1\n",
    "             print('Акредитация пройдена! (+1 балл)')   \n",
    "        \n",
    "    \n",
    "    def add_award(self):\n",
    "        self.awards += 1\n",
    "        self.score += 2\n",
    "    \n",
    "    \n",
    "    def info(self):\n",
    "        print('\\nИнформация о дизайнере {}:'.format(self.name))\n",
    "        print('Грейд: {}'.format(self.seniority))\n",
    "        print('Наград: {}\\n'.format(self.awards))"
   ]
  },
  {
   "cell_type": "code",
   "execution_count": 145,
   "metadata": {},
   "outputs": [
    {
     "name": "stdout",
     "output_type": "stream",
     "text": [
      "\n",
      "Информация о дизайнере Елена:\n",
      "Грейд: 0\n",
      "Наград: 2\n",
      "\n",
      "Акредитация пройдена! (+1 балл)\n",
      "Акредитация пройдена! (+1 балл)\n",
      "Акредитация пройдена! (+1 балл)\n",
      "Акредитация пройдена! (+1 балл)\n",
      "Акредитация пройдена! (+2 балл)\n",
      "Акредитация пройдена! (+2 балл)\n",
      "Акредитация пройдена! (+2 балл)\n",
      "Акредитация пройдена! (+2 балл)\n",
      "Акредитация пройдена! (+1 балл)\n",
      "Акредитация пройдена! (+1 балл)\n",
      "Акредитация пройдена! (+2 балл)\n",
      "Акредитация пройдена! (+1 балл)\n",
      "Акредитация пройдена! (+1 балл)\n",
      "Акредитация пройдена! (+2 балл)\n",
      "Акредитация пройдена! (+1 балл)\n",
      "Акредитация пройдена! (+1 балл)\n",
      "Акредитация пройдена! (+2 балл)\n",
      "Акредитация пройдена! (+2 балл)\n",
      "Акредитация пройдена! (+1 балл)\n",
      "Акредитация пройдена! (+2 балл)\n",
      "\n",
      "Информация о дизайнере Елена:\n",
      "Грейд: 4\n",
      "Наград: 11\n",
      "\n"
     ]
    }
   ],
   "source": [
    "elena = Designer('Елена', seniority=0, awards=2)\n",
    "elena.info()\n",
    "\n",
    "for i in range(20):\n",
    "    elena.acreditation()\n",
    "\n",
    "elena.upgrade()\n",
    "elena.info()"
   ]
  },
  {
   "cell_type": "code",
   "execution_count": null,
   "metadata": {},
   "outputs": [],
   "source": []
  },
  {
   "cell_type": "code",
   "execution_count": null,
   "metadata": {},
   "outputs": [],
   "source": []
  }
 ],
 "metadata": {
  "kernelspec": {
   "display_name": "Python 3",
   "language": "python",
   "name": "python3"
  },
  "language_info": {
   "codemirror_mode": {
    "name": "ipython",
    "version": 3
   },
   "file_extension": ".py",
   "mimetype": "text/x-python",
   "name": "python",
   "nbconvert_exporter": "python",
   "pygments_lexer": "ipython3",
   "version": "3.8.3"
  }
 },
 "nbformat": 4,
 "nbformat_minor": 4
}
